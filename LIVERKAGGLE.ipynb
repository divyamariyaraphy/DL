{
  "nbformat": 4,
  "nbformat_minor": 0,
  "metadata": {
    "colab": {
      "name": "LIVERKAGGLE.ipynb",
      "provenance": []
    },
    "kernelspec": {
      "name": "python3",
      "display_name": "Python 3"
    }
  },
  "cells": [
    {
      "cell_type": "code",
      "metadata": {
        "id": "AgNATnx0lBO8",
        "colab_type": "code",
        "colab": {}
      },
      "source": [
        "from sklearn import datasets\n",
        "import numpy as np\n",
        "import pandas as pd\n",
        "from sklearn.neural_network import MLPClassifier\n",
        "from sklearn.model_selection import train_test_split\n",
        "\n"
      ],
      "execution_count": 0,
      "outputs": []
    },
    {
      "cell_type": "code",
      "metadata": {
        "id": "oQ2lEqG3nZwj",
        "colab_type": "code",
        "colab": {}
      },
      "source": [
        "!pip install -U -q PyDrive\n",
        "from pydrive.auth import GoogleAuth\n",
        "from pydrive.drive import GoogleDrive\n",
        "from google.colab import auth\n",
        "from oauth2client.client import GoogleCredentials\n"
      ],
      "execution_count": 0,
      "outputs": []
    },
    {
      "cell_type": "code",
      "metadata": {
        "id": "ZsZc6j5knp0g",
        "colab_type": "code",
        "colab": {}
      },
      "source": [
        "# Authenticate and create the PyDrive client.\n",
        "auth.authenticate_user()\n",
        "gauth = GoogleAuth()\n",
        "gauth.credentials = GoogleCredentials.get_application_default()\n",
        "drive = GoogleDrive(gauth)\n",
        "link = 'https://drive.google.com/open?id=1KbBn5eKPlvk1OcTP7Jsfg2xZJYmi7unJ'\n"
      ],
      "execution_count": 0,
      "outputs": []
    },
    {
      "cell_type": "code",
      "metadata": {
        "id": "aplgXBLxqyuY",
        "colab_type": "code",
        "outputId": "cfac469f-bcd7-4cf4-c4a2-f5b946bc27dc",
        "colab": {
          "base_uri": "https://localhost:8080/",
          "height": 34
        }
      },
      "source": [
        "fluff, id = link.split('=')\n",
        "print (id)\n"
      ],
      "execution_count": 0,
      "outputs": [
        {
          "output_type": "stream",
          "text": [
            "1KbBn5eKPlvk1OcTP7Jsfg2xZJYmi7unJ\n"
          ],
          "name": "stdout"
        }
      ]
    },
    {
      "cell_type": "code",
      "metadata": {
        "id": "y5znpskMq5g3",
        "colab_type": "code",
        "colab": {}
      },
      "source": [
        "downloaded = drive.CreateFile({'id':id}) \n",
        "downloaded.GetContentFile('indian_liver_patient.csv')  \n",
        "data = pd.read_csv('indian_liver_patient.csv')"
      ],
      "execution_count": 0,
      "outputs": []
    },
    {
      "cell_type": "code",
      "metadata": {
        "id": "8c6uH5MLPOI5",
        "colab_type": "code",
        "outputId": "bbde16b4-c0ac-4836-9172-a7fd3a8256f0",
        "colab": {
          "base_uri": "https://localhost:8080/",
          "height": 34
        }
      },
      "source": [
        "data.shape"
      ],
      "execution_count": 0,
      "outputs": [
        {
          "output_type": "execute_result",
          "data": {
            "text/plain": [
              "(583, 11)"
            ]
          },
          "metadata": {
            "tags": []
          },
          "execution_count": 6
        }
      ]
    },
    {
      "cell_type": "code",
      "metadata": {
        "id": "GOnn0sZjP5PJ",
        "colab_type": "code",
        "outputId": "ab8e93bb-fcea-4650-9caa-1963793b2f2c",
        "colab": {
          "base_uri": "https://localhost:8080/",
          "height": 289
        }
      },
      "source": [
        "data.head\n",
        "data.info()"
      ],
      "execution_count": 0,
      "outputs": [
        {
          "output_type": "stream",
          "text": [
            "<class 'pandas.core.frame.DataFrame'>\n",
            "RangeIndex: 583 entries, 0 to 582\n",
            "Data columns (total 11 columns):\n",
            "Age                           583 non-null int64\n",
            "Gender                        583 non-null object\n",
            "Total_Bilirubin               583 non-null float64\n",
            "Direct_Bilirubin              583 non-null float64\n",
            "Alkaline_Phosphotase          583 non-null int64\n",
            "Alamine_Aminotransferase      583 non-null int64\n",
            "Aspartate_Aminotransferase    583 non-null int64\n",
            "Total_Protiens                583 non-null float64\n",
            "Albumin                       583 non-null float64\n",
            "Albumin_and_Globulin_Ratio    579 non-null float64\n",
            "Dataset                       583 non-null int64\n",
            "dtypes: float64(5), int64(5), object(1)\n",
            "memory usage: 50.2+ KB\n"
          ],
          "name": "stdout"
        }
      ]
    },
    {
      "cell_type": "code",
      "metadata": {
        "id": "bI_QTes-tGD9",
        "colab_type": "code",
        "colab": {}
      },
      "source": [
        "from sklearn.preprocessing import LabelEncoder"
      ],
      "execution_count": 0,
      "outputs": []
    },
    {
      "cell_type": "code",
      "metadata": {
        "id": "HFBr8Vk1tF73",
        "colab_type": "code",
        "colab": {}
      },
      "source": [
        "lb=LabelEncoder()"
      ],
      "execution_count": 0,
      "outputs": []
    },
    {
      "cell_type": "code",
      "metadata": {
        "id": "QfVTyp8HtF09",
        "colab_type": "code",
        "colab": {}
      },
      "source": [
        "data['Gender']=lb.fit_transform(data['Gender'])"
      ],
      "execution_count": 0,
      "outputs": []
    },
    {
      "cell_type": "code",
      "metadata": {
        "id": "9QVaCZCUtFui",
        "colab_type": "code",
        "outputId": "26636ada-4328-4877-f614-d73c4c6d4834",
        "colab": {
          "base_uri": "https://localhost:8080/",
          "height": 289
        }
      },
      "source": [
        "data.info()"
      ],
      "execution_count": 0,
      "outputs": [
        {
          "output_type": "stream",
          "text": [
            "<class 'pandas.core.frame.DataFrame'>\n",
            "RangeIndex: 583 entries, 0 to 582\n",
            "Data columns (total 11 columns):\n",
            "Age                           583 non-null int64\n",
            "Gender                        583 non-null int64\n",
            "Total_Bilirubin               583 non-null float64\n",
            "Direct_Bilirubin              583 non-null float64\n",
            "Alkaline_Phosphotase          583 non-null int64\n",
            "Alamine_Aminotransferase      583 non-null int64\n",
            "Aspartate_Aminotransferase    583 non-null int64\n",
            "Total_Protiens                583 non-null float64\n",
            "Albumin                       583 non-null float64\n",
            "Albumin_and_Globulin_Ratio    579 non-null float64\n",
            "Dataset                       583 non-null int64\n",
            "dtypes: float64(5), int64(6)\n",
            "memory usage: 50.2 KB\n"
          ],
          "name": "stdout"
        }
      ]
    },
    {
      "cell_type": "code",
      "metadata": {
        "id": "Pfa43hpvtFmj",
        "colab_type": "code",
        "colab": {}
      },
      "source": [
        "from sklearn.model_selection import train_test_split\n",
        "from sklearn.linear_model import Perceptron"
      ],
      "execution_count": 0,
      "outputs": []
    },
    {
      "cell_type": "code",
      "metadata": {
        "id": "qt2ZnqfntFZA",
        "colab_type": "code",
        "colab": {}
      },
      "source": [
        "x=data.drop('Dataset',axis=1)\n",
        "y=data.Dataset"
      ],
      "execution_count": 0,
      "outputs": []
    },
    {
      "cell_type": "code",
      "metadata": {
        "id": "lpOI3qIjUAcF",
        "colab_type": "code",
        "outputId": "a5c02af5-416e-4d52-e047-93b26e849d91",
        "colab": {
          "base_uri": "https://localhost:8080/",
          "height": 221
        }
      },
      "source": [
        "data.isnull().sum()"
      ],
      "execution_count": 0,
      "outputs": [
        {
          "output_type": "execute_result",
          "data": {
            "text/plain": [
              "Age                           0\n",
              "Gender                        0\n",
              "Total_Bilirubin               0\n",
              "Direct_Bilirubin              0\n",
              "Alkaline_Phosphotase          0\n",
              "Alamine_Aminotransferase      0\n",
              "Aspartate_Aminotransferase    0\n",
              "Total_Protiens                0\n",
              "Albumin                       0\n",
              "Albumin_and_Globulin_Ratio    4\n",
              "Dataset                       0\n",
              "dtype: int64"
            ]
          },
          "metadata": {
            "tags": []
          },
          "execution_count": 14
        }
      ]
    },
    {
      "cell_type": "code",
      "metadata": {
        "id": "9xKdxP8rwz53",
        "colab_type": "code",
        "colab": {}
      },
      "source": [
        "data['Albumin_and_Globulin_Ratio']=data['Albumin_and_Globulin_Ratio'].replace(0,np.NaN)\n",
        "x.fillna(data.mean(),inplace=True)"
      ],
      "execution_count": 0,
      "outputs": []
    },
    {
      "cell_type": "code",
      "metadata": {
        "id": "mAqKgOZAxa_O",
        "colab_type": "code",
        "outputId": "c6db8963-bf46-475f-d9c8-279794c7f352",
        "colab": {
          "base_uri": "https://localhost:8080/",
          "height": 221
        }
      },
      "source": [
        "data.isnull().sum()"
      ],
      "execution_count": 0,
      "outputs": [
        {
          "output_type": "execute_result",
          "data": {
            "text/plain": [
              "Age                           0\n",
              "Gender                        0\n",
              "Total_Bilirubin               0\n",
              "Direct_Bilirubin              0\n",
              "Alkaline_Phosphotase          0\n",
              "Alamine_Aminotransferase      0\n",
              "Aspartate_Aminotransferase    0\n",
              "Total_Protiens                0\n",
              "Albumin                       0\n",
              "Albumin_and_Globulin_Ratio    4\n",
              "Dataset                       0\n",
              "dtype: int64"
            ]
          },
          "metadata": {
            "tags": []
          },
          "execution_count": 16
        }
      ]
    },
    {
      "cell_type": "code",
      "metadata": {
        "id": "9FAJ1ZKWXLlx",
        "colab_type": "code",
        "outputId": "4bd6bc8f-3b31-4472-ff69-9805cf3cd626",
        "colab": {
          "base_uri": "https://localhost:8080/",
          "height": 34
        }
      },
      "source": [
        "X_train, X_test, y_train, y_test = train_test_split(x, y, test_size =0.2 ,stratify=y,random_state=42)\n",
        "# Create an object (model) for MLP.\n",
        "mlpClassifier = MLPClassifier(solver='lbfgs', alpha=1e-5,hidden_layer_sizes=(10, 5), random_state=1)\n",
        "mlpClassifier.fit(X_train, y_train)\n",
        "score = mlpClassifier.score(X_test, y_test)\n",
        "print(score)"
      ],
      "execution_count": 0,
      "outputs": [
        {
          "output_type": "stream",
          "text": [
            "0.7094017094017094\n"
          ],
          "name": "stdout"
        }
      ]
    },
    {
      "cell_type": "code",
      "metadata": {
        "id": "dirHpz2TXhyf",
        "colab_type": "code",
        "colab": {}
      },
      "source": [
        "perceptron=Perceptron()"
      ],
      "execution_count": 0,
      "outputs": []
    },
    {
      "cell_type": "code",
      "metadata": {
        "id": "uZ3NLTTX-hfj",
        "colab_type": "code",
        "outputId": "9860c840-1866-4361-a31c-2d3531cfd0c4",
        "colab": {
          "base_uri": "https://localhost:8080/",
          "height": 85
        }
      },
      "source": [
        "perceptron.fit(X_train,y_train)"
      ],
      "execution_count": 0,
      "outputs": [
        {
          "output_type": "execute_result",
          "data": {
            "text/plain": [
              "Perceptron(alpha=0.0001, class_weight=None, early_stopping=False, eta0=1.0,\n",
              "           fit_intercept=True, max_iter=1000, n_iter_no_change=5, n_jobs=None,\n",
              "           penalty=None, random_state=0, shuffle=True, tol=0.001,\n",
              "           validation_fraction=0.1, verbose=0, warm_start=False)"
            ]
          },
          "metadata": {
            "tags": []
          },
          "execution_count": 19
        }
      ]
    },
    {
      "cell_type": "code",
      "metadata": {
        "id": "v7B7aYRQ_o5i",
        "colab_type": "code",
        "outputId": "996dc933-8614-43db-88cb-89852ca1c75a",
        "colab": {
          "base_uri": "https://localhost:8080/",
          "height": 34
        }
      },
      "source": [
        "perceptron.score(X_test,y_test)"
      ],
      "execution_count": 0,
      "outputs": [
        {
          "output_type": "execute_result",
          "data": {
            "text/plain": [
              "0.3333333333333333"
            ]
          },
          "metadata": {
            "tags": []
          },
          "execution_count": 20
        }
      ]
    },
    {
      "cell_type": "code",
      "metadata": {
        "id": "kwmoziz1_1h8",
        "colab_type": "code",
        "outputId": "b97576da-5edd-4a9a-cdfd-c118fcd7965e",
        "colab": {
          "base_uri": "https://localhost:8080/",
          "height": 63
        }
      },
      "source": [
        "import tensorflow as tf\n",
        "from tensorflow import keras"
      ],
      "execution_count": 0,
      "outputs": [
        {
          "output_type": "display_data",
          "data": {
            "text/html": [
              "<p style=\"color: red;\">\n",
              "The default version of TensorFlow in Colab will soon switch to TensorFlow 2.x.<br>\n",
              "We recommend you <a href=\"https://www.tensorflow.org/guide/migrate\" target=\"_blank\">upgrade</a> now \n",
              "or ensure your notebook will continue to use TensorFlow 1.x via the <code>%tensorflow_version 1.x</code> magic:\n",
              "<a href=\"https://colab.research.google.com/notebooks/tensorflow_version.ipynb\" target=\"_blank\">more info</a>.</p>\n"
            ],
            "text/plain": [
              "<IPython.core.display.HTML object>"
            ]
          },
          "metadata": {
            "tags": []
          }
        }
      ]
    },
    {
      "cell_type": "code",
      "metadata": {
        "id": "3xkmWsqPURU-",
        "colab_type": "code",
        "colab": {}
      },
      "source": [
        "tf.set_random_seed(42)\n",
        "np.random.seed(42)"
      ],
      "execution_count": 0,
      "outputs": []
    },
    {
      "cell_type": "code",
      "metadata": {
        "id": "tLdK9GFcUXcg",
        "colab_type": "code",
        "colab": {}
      },
      "source": [
        "from sklearn.model_selection import train_test_split\n",
        "X_train, X_test, y_train, y_test = train_test_split(x, y, test_size=0.2,stratify=y, random_state=42)\n",
        "\n",
        "from sklearn.preprocessing import StandardScaler\n",
        "sc = StandardScaler()"
      ],
      "execution_count": 0,
      "outputs": []
    },
    {
      "cell_type": "code",
      "metadata": {
        "id": "YhIdFp_DVMgM",
        "colab_type": "code",
        "outputId": "dd241cef-cf59-4898-8461-e9eccd1155c1",
        "colab": {
          "base_uri": "https://localhost:8080/",
          "height": 34
        }
      },
      "source": [
        "sc.fit(X_train)"
      ],
      "execution_count": 0,
      "outputs": [
        {
          "output_type": "execute_result",
          "data": {
            "text/plain": [
              "StandardScaler(copy=True, with_mean=True, with_std=True)"
            ]
          },
          "metadata": {
            "tags": []
          },
          "execution_count": 24
        }
      ]
    },
    {
      "cell_type": "code",
      "metadata": {
        "id": "WeIBuHb-VYin",
        "colab_type": "code",
        "colab": {}
      },
      "source": [
        "X_train_std = sc.transform(X_train)\n",
        "X_test_std = sc.transform(X_test)"
      ],
      "execution_count": 0,
      "outputs": []
    },
    {
      "cell_type": "code",
      "metadata": {
        "id": "oeEBLWmxVe9M",
        "colab_type": "code",
        "outputId": "96c14871-4075-40ae-b2f4-999056e2d55c",
        "colab": {
          "base_uri": "https://localhost:8080/",
          "height": 221
        }
      },
      "source": [
        "model_MLP = keras.models.Sequential()\n",
        "\n",
        "model_MLP.add(keras.layers.Dense(units=25, activation='relu',input_shape= X_train.shape[1:]))\n",
        "\n",
        "model_MLP.add(keras.layers.Dense(units=1, activation='softmax'))\n",
        "\n",
        "model_MLP.summary()"
      ],
      "execution_count": 0,
      "outputs": [
        {
          "output_type": "stream",
          "text": [
            "Model: \"sequential_1\"\n",
            "_________________________________________________________________\n",
            "Layer (type)                 Output Shape              Param #   \n",
            "=================================================================\n",
            "dense_2 (Dense)              (None, 25)                275       \n",
            "_________________________________________________________________\n",
            "dense_3 (Dense)              (None, 1)                 26        \n",
            "=================================================================\n",
            "Total params: 301\n",
            "Trainable params: 301\n",
            "Non-trainable params: 0\n",
            "_________________________________________________________________\n"
          ],
          "name": "stdout"
        }
      ]
    },
    {
      "cell_type": "code",
      "metadata": {
        "id": "83MwyIXiV1ts",
        "colab_type": "code",
        "colab": {}
      },
      "source": [
        "model_MLP.compile(loss='binary_crossentropy',optimizer='adam', metrics=['accuracy'])"
      ],
      "execution_count": 0,
      "outputs": []
    },
    {
      "cell_type": "code",
      "metadata": {
        "id": "A30xCAFBXdBX",
        "colab_type": "code",
        "outputId": "88527e56-6492-44d6-8409-c110786d7dd1",
        "colab": {
          "base_uri": "https://localhost:8080/",
          "height": 1000
        }
      },
      "source": [
        "model_MLP.fit(x=X_train_std, y=y_train, validation_split=0.1, epochs=50,batch_size=32)"
      ],
      "execution_count": 0,
      "outputs": [
        {
          "output_type": "stream",
          "text": [
            "Train on 419 samples, validate on 47 samples\n",
            "Epoch 1/50\n",
            "419/419 [==============================] - 0s 87us/sample - loss: -4.4280 - acc: 0.7112 - val_loss: -3.8934 - val_acc: 0.7447\n",
            "Epoch 2/50\n",
            "419/419 [==============================] - 0s 62us/sample - loss: -4.4280 - acc: 0.7112 - val_loss: -3.8934 - val_acc: 0.7447\n",
            "Epoch 3/50\n",
            "419/419 [==============================] - 0s 71us/sample - loss: -4.4280 - acc: 0.7112 - val_loss: -3.8934 - val_acc: 0.7447\n",
            "Epoch 4/50\n",
            "419/419 [==============================] - 0s 70us/sample - loss: -4.4280 - acc: 0.7112 - val_loss: -3.8934 - val_acc: 0.7447\n",
            "Epoch 5/50\n",
            "419/419 [==============================] - 0s 62us/sample - loss: -4.4280 - acc: 0.7112 - val_loss: -3.8934 - val_acc: 0.7447\n",
            "Epoch 6/50\n",
            "419/419 [==============================] - 0s 66us/sample - loss: -4.4280 - acc: 0.7112 - val_loss: -3.8934 - val_acc: 0.7447\n",
            "Epoch 7/50\n",
            "419/419 [==============================] - 0s 67us/sample - loss: -4.4280 - acc: 0.7112 - val_loss: -3.8934 - val_acc: 0.7447\n",
            "Epoch 8/50\n",
            "419/419 [==============================] - 0s 87us/sample - loss: -4.4280 - acc: 0.7112 - val_loss: -3.8934 - val_acc: 0.7447\n",
            "Epoch 9/50\n",
            "419/419 [==============================] - 0s 76us/sample - loss: -4.4280 - acc: 0.7112 - val_loss: -3.8934 - val_acc: 0.7447\n",
            "Epoch 10/50\n",
            "419/419 [==============================] - 0s 68us/sample - loss: -4.4280 - acc: 0.7112 - val_loss: -3.8934 - val_acc: 0.7447\n",
            "Epoch 11/50\n",
            "419/419 [==============================] - 0s 64us/sample - loss: -4.4280 - acc: 0.7112 - val_loss: -3.8934 - val_acc: 0.7447\n",
            "Epoch 12/50\n",
            "419/419 [==============================] - 0s 72us/sample - loss: -4.4280 - acc: 0.7112 - val_loss: -3.8934 - val_acc: 0.7447\n",
            "Epoch 13/50\n",
            "419/419 [==============================] - 0s 71us/sample - loss: -4.4280 - acc: 0.7112 - val_loss: -3.8934 - val_acc: 0.7447\n",
            "Epoch 14/50\n",
            "419/419 [==============================] - 0s 67us/sample - loss: -4.4280 - acc: 0.7112 - val_loss: -3.8934 - val_acc: 0.7447\n",
            "Epoch 15/50\n",
            "419/419 [==============================] - 0s 62us/sample - loss: -4.4280 - acc: 0.7112 - val_loss: -3.8934 - val_acc: 0.7447\n",
            "Epoch 16/50\n",
            "419/419 [==============================] - 0s 82us/sample - loss: -4.4280 - acc: 0.7112 - val_loss: -3.8934 - val_acc: 0.7447\n",
            "Epoch 17/50\n",
            "419/419 [==============================] - 0s 65us/sample - loss: -4.4280 - acc: 0.7112 - val_loss: -3.8934 - val_acc: 0.7447\n",
            "Epoch 18/50\n",
            "419/419 [==============================] - 0s 61us/sample - loss: -4.4280 - acc: 0.7112 - val_loss: -3.8934 - val_acc: 0.7447\n",
            "Epoch 19/50\n",
            "419/419 [==============================] - 0s 70us/sample - loss: -4.4280 - acc: 0.7112 - val_loss: -3.8934 - val_acc: 0.7447\n",
            "Epoch 20/50\n",
            "419/419 [==============================] - 0s 74us/sample - loss: -4.4280 - acc: 0.7112 - val_loss: -3.8934 - val_acc: 0.7447\n",
            "Epoch 21/50\n",
            "419/419 [==============================] - 0s 71us/sample - loss: -4.4280 - acc: 0.7112 - val_loss: -3.8934 - val_acc: 0.7447\n",
            "Epoch 22/50\n",
            "419/419 [==============================] - 0s 69us/sample - loss: -4.4280 - acc: 0.7112 - val_loss: -3.8934 - val_acc: 0.7447\n",
            "Epoch 23/50\n",
            "419/419 [==============================] - 0s 67us/sample - loss: -4.4280 - acc: 0.7112 - val_loss: -3.8934 - val_acc: 0.7447\n",
            "Epoch 24/50\n",
            "419/419 [==============================] - 0s 80us/sample - loss: -4.4280 - acc: 0.7112 - val_loss: -3.8934 - val_acc: 0.7447\n",
            "Epoch 25/50\n",
            "419/419 [==============================] - 0s 64us/sample - loss: -4.4280 - acc: 0.7112 - val_loss: -3.8934 - val_acc: 0.7447\n",
            "Epoch 26/50\n",
            "419/419 [==============================] - 0s 68us/sample - loss: -4.4280 - acc: 0.7112 - val_loss: -3.8934 - val_acc: 0.7447\n",
            "Epoch 27/50\n",
            "419/419 [==============================] - 0s 79us/sample - loss: -4.4280 - acc: 0.7112 - val_loss: -3.8934 - val_acc: 0.7447\n",
            "Epoch 28/50\n",
            "419/419 [==============================] - 0s 64us/sample - loss: -4.4280 - acc: 0.7112 - val_loss: -3.8934 - val_acc: 0.7447\n",
            "Epoch 29/50\n",
            "419/419 [==============================] - 0s 64us/sample - loss: -4.4280 - acc: 0.7112 - val_loss: -3.8934 - val_acc: 0.7447\n",
            "Epoch 30/50\n",
            "419/419 [==============================] - 0s 67us/sample - loss: -4.4280 - acc: 0.7112 - val_loss: -3.8934 - val_acc: 0.7447\n",
            "Epoch 31/50\n",
            "419/419 [==============================] - 0s 71us/sample - loss: -4.4280 - acc: 0.7112 - val_loss: -3.8934 - val_acc: 0.7447\n",
            "Epoch 32/50\n",
            "419/419 [==============================] - 0s 68us/sample - loss: -4.4280 - acc: 0.7112 - val_loss: -3.8934 - val_acc: 0.7447\n",
            "Epoch 33/50\n",
            "419/419 [==============================] - 0s 71us/sample - loss: -4.4280 - acc: 0.7112 - val_loss: -3.8934 - val_acc: 0.7447\n",
            "Epoch 34/50\n",
            "419/419 [==============================] - 0s 71us/sample - loss: -4.4280 - acc: 0.7112 - val_loss: -3.8934 - val_acc: 0.7447\n",
            "Epoch 35/50\n",
            "419/419 [==============================] - 0s 75us/sample - loss: -4.4280 - acc: 0.7112 - val_loss: -3.8934 - val_acc: 0.7447\n",
            "Epoch 36/50\n",
            "419/419 [==============================] - 0s 73us/sample - loss: -4.4280 - acc: 0.7112 - val_loss: -3.8934 - val_acc: 0.7447\n",
            "Epoch 37/50\n",
            "419/419 [==============================] - 0s 67us/sample - loss: -4.4280 - acc: 0.7112 - val_loss: -3.8934 - val_acc: 0.7447\n",
            "Epoch 38/50\n",
            "419/419 [==============================] - 0s 68us/sample - loss: -4.4280 - acc: 0.7112 - val_loss: -3.8934 - val_acc: 0.7447\n",
            "Epoch 39/50\n",
            "419/419 [==============================] - 0s 66us/sample - loss: -4.4280 - acc: 0.7112 - val_loss: -3.8934 - val_acc: 0.7447\n",
            "Epoch 40/50\n",
            "419/419 [==============================] - 0s 69us/sample - loss: -4.4280 - acc: 0.7112 - val_loss: -3.8934 - val_acc: 0.7447\n",
            "Epoch 41/50\n",
            "419/419 [==============================] - 0s 69us/sample - loss: -4.4280 - acc: 0.7112 - val_loss: -3.8934 - val_acc: 0.7447\n",
            "Epoch 42/50\n",
            "419/419 [==============================] - 0s 75us/sample - loss: -4.4280 - acc: 0.7112 - val_loss: -3.8934 - val_acc: 0.7447\n",
            "Epoch 43/50\n",
            "419/419 [==============================] - 0s 77us/sample - loss: -4.4280 - acc: 0.7112 - val_loss: -3.8934 - val_acc: 0.7447\n",
            "Epoch 44/50\n",
            "419/419 [==============================] - 0s 76us/sample - loss: -4.4280 - acc: 0.7112 - val_loss: -3.8934 - val_acc: 0.7447\n",
            "Epoch 45/50\n",
            "419/419 [==============================] - 0s 73us/sample - loss: -4.4280 - acc: 0.7112 - val_loss: -3.8934 - val_acc: 0.7447\n",
            "Epoch 46/50\n",
            "419/419 [==============================] - 0s 79us/sample - loss: -4.4280 - acc: 0.7112 - val_loss: -3.8934 - val_acc: 0.7447\n",
            "Epoch 47/50\n",
            "419/419 [==============================] - 0s 75us/sample - loss: -4.4280 - acc: 0.7112 - val_loss: -3.8934 - val_acc: 0.7447\n",
            "Epoch 48/50\n",
            "419/419 [==============================] - 0s 80us/sample - loss: -4.4280 - acc: 0.7112 - val_loss: -3.8934 - val_acc: 0.7447\n",
            "Epoch 49/50\n",
            "419/419 [==============================] - 0s 76us/sample - loss: -4.4280 - acc: 0.7112 - val_loss: -3.8934 - val_acc: 0.7447\n",
            "Epoch 50/50\n",
            "419/419 [==============================] - 0s 74us/sample - loss: -4.4280 - acc: 0.7112 - val_loss: -3.8934 - val_acc: 0.7447\n"
          ],
          "name": "stdout"
        },
        {
          "output_type": "execute_result",
          "data": {
            "text/plain": [
              "<tensorflow.python.keras.callbacks.History at 0x7f84043bea58>"
            ]
          },
          "metadata": {
            "tags": []
          },
          "execution_count": 30
        }
      ]
    },
    {
      "cell_type": "code",
      "metadata": {
        "id": "p_VEDggKXigj",
        "colab_type": "code",
        "outputId": "4daa0c5d-d52e-4792-9d63-9dc7894a2682",
        "colab": {
          "base_uri": "https://localhost:8080/",
          "height": 34
        }
      },
      "source": [
        "test_loss, test_accuracy = model_MLP.evaluate(x=X_test_std, y=y_test)"
      ],
      "execution_count": 0,
      "outputs": [
        {
          "output_type": "stream",
          "text": [
            "117/117 [==============================] - 0s 83us/sample - loss: -4.4314 - acc: 0.7094\n"
          ],
          "name": "stdout"
        }
      ]
    },
    {
      "cell_type": "code",
      "metadata": {
        "id": "PAy7Fw5BX7KE",
        "colab_type": "code",
        "outputId": "7518462e-d248-4314-970e-2d4544703eb2",
        "colab": {
          "base_uri": "https://localhost:8080/",
          "height": 34
        }
      },
      "source": [
        "print(test_loss, test_accuracy)"
      ],
      "execution_count": 0,
      "outputs": [
        {
          "output_type": "stream",
          "text": [
            "-4.431402605822963 0.7094017\n"
          ],
          "name": "stdout"
        }
      ]
    },
    {
      "cell_type": "markdown",
      "metadata": {
        "id": "BQCBaRpSYeBA",
        "colab_type": "text"
      },
      "source": [
        "KERAS PERCEPTRON\n"
      ]
    },
    {
      "cell_type": "code",
      "metadata": {
        "id": "9nJTls1YYABt",
        "colab_type": "code",
        "outputId": "04e6a1a7-341f-486a-c815-bc084f2dccec",
        "colab": {
          "base_uri": "https://localhost:8080/",
          "height": 221
        }
      },
      "source": [
        "perceptrn= keras.models.Sequential()\n",
        "\n",
        "perceptrn.add(keras.layers.Dense(units=25, activation='relu',input_shape= X_train.shape[1:]))\n",
        "\n",
        "perceptrn.add(keras.layers.Dense(units=1, activation='sigmoid'))\n",
        "\n",
        "perceptrn.summary()"
      ],
      "execution_count": 0,
      "outputs": [
        {
          "output_type": "stream",
          "text": [
            "Model: \"sequential_2\"\n",
            "_________________________________________________________________\n",
            "Layer (type)                 Output Shape              Param #   \n",
            "=================================================================\n",
            "dense_4 (Dense)              (None, 25)                275       \n",
            "_________________________________________________________________\n",
            "dense_5 (Dense)              (None, 1)                 26        \n",
            "=================================================================\n",
            "Total params: 301\n",
            "Trainable params: 301\n",
            "Non-trainable params: 0\n",
            "_________________________________________________________________\n"
          ],
          "name": "stdout"
        }
      ]
    },
    {
      "cell_type": "code",
      "metadata": {
        "id": "9T-x40I4B-4W",
        "colab_type": "code",
        "colab": {}
      },
      "source": [
        ""
      ],
      "execution_count": 0,
      "outputs": []
    },
    {
      "cell_type": "code",
      "metadata": {
        "colab_type": "code",
        "id": "Y9GNBMI0CLVb",
        "colab": {}
      },
      "source": [
        "perceptrn.compile(loss='binary_crossentropy',optimizer='adam', metrics=['accuracy'])"
      ],
      "execution_count": 0,
      "outputs": []
    },
    {
      "cell_type": "code",
      "metadata": {
        "id": "CpubiLFPCN-d",
        "colab_type": "code",
        "outputId": "34e3b8d5-49c6-4ad2-d07b-dbb12f1a0c6d",
        "colab": {
          "base_uri": "https://localhost:8080/",
          "height": 1000
        }
      },
      "source": [
        "perceptrn.fit(x=X_train_std, y=y_train, validation_split=0.1, epochs=50,batch_size=32)"
      ],
      "execution_count": 0,
      "outputs": [
        {
          "output_type": "stream",
          "text": [
            "Train on 419 samples, validate on 47 samples\n",
            "Epoch 1/50\n",
            "419/419 [==============================] - 0s 379us/sample - loss: 0.6904 - acc: 0.4272 - val_loss: 0.6651 - val_acc: 0.5957\n",
            "Epoch 2/50\n",
            "419/419 [==============================] - 0s 86us/sample - loss: 0.5370 - acc: 0.5537 - val_loss: 0.5302 - val_acc: 0.6170\n",
            "Epoch 3/50\n",
            "419/419 [==============================] - 0s 81us/sample - loss: 0.3924 - acc: 0.6348 - val_loss: 0.4092 - val_acc: 0.6809\n",
            "Epoch 4/50\n",
            "419/419 [==============================] - 0s 86us/sample - loss: 0.2592 - acc: 0.6850 - val_loss: 0.2996 - val_acc: 0.7447\n",
            "Epoch 5/50\n",
            "419/419 [==============================] - 0s 83us/sample - loss: 0.1383 - acc: 0.7041 - val_loss: 0.1948 - val_acc: 0.7447\n",
            "Epoch 6/50\n",
            "419/419 [==============================] - 0s 92us/sample - loss: 0.0235 - acc: 0.7112 - val_loss: 0.0967 - val_acc: 0.7447\n",
            "Epoch 7/50\n",
            "419/419 [==============================] - 0s 74us/sample - loss: -0.0855 - acc: 0.7112 - val_loss: 0.0017 - val_acc: 0.7447\n",
            "Epoch 8/50\n",
            "419/419 [==============================] - 0s 76us/sample - loss: -0.1929 - acc: 0.7112 - val_loss: -0.0941 - val_acc: 0.7447\n",
            "Epoch 9/50\n",
            "419/419 [==============================] - 0s 69us/sample - loss: -0.2983 - acc: 0.7112 - val_loss: -0.1860 - val_acc: 0.7447\n",
            "Epoch 10/50\n",
            "419/419 [==============================] - 0s 82us/sample - loss: -0.4039 - acc: 0.7112 - val_loss: -0.2714 - val_acc: 0.7447\n",
            "Epoch 11/50\n",
            "419/419 [==============================] - 0s 87us/sample - loss: -0.5070 - acc: 0.7112 - val_loss: -0.3604 - val_acc: 0.7447\n",
            "Epoch 12/50\n",
            "419/419 [==============================] - 0s 82us/sample - loss: -0.6145 - acc: 0.7112 - val_loss: -0.4486 - val_acc: 0.7447\n",
            "Epoch 13/50\n",
            "419/419 [==============================] - 0s 90us/sample - loss: -0.7197 - acc: 0.7112 - val_loss: -0.5367 - val_acc: 0.7447\n",
            "Epoch 14/50\n",
            "419/419 [==============================] - 0s 83us/sample - loss: -0.8293 - acc: 0.7112 - val_loss: -0.6282 - val_acc: 0.7447\n",
            "Epoch 15/50\n",
            "419/419 [==============================] - 0s 92us/sample - loss: -0.9464 - acc: 0.7112 - val_loss: -0.7220 - val_acc: 0.7447\n",
            "Epoch 16/50\n",
            "419/419 [==============================] - 0s 76us/sample - loss: -1.0625 - acc: 0.7112 - val_loss: -0.8162 - val_acc: 0.7447\n",
            "Epoch 17/50\n",
            "419/419 [==============================] - 0s 71us/sample - loss: -1.1872 - acc: 0.7112 - val_loss: -0.9133 - val_acc: 0.7447\n",
            "Epoch 18/50\n",
            "419/419 [==============================] - 0s 84us/sample - loss: -1.3107 - acc: 0.7112 - val_loss: -1.0198 - val_acc: 0.7447\n",
            "Epoch 19/50\n",
            "419/419 [==============================] - 0s 77us/sample - loss: -1.4527 - acc: 0.7112 - val_loss: -1.1221 - val_acc: 0.7447\n",
            "Epoch 20/50\n",
            "419/419 [==============================] - 0s 92us/sample - loss: -1.5937 - acc: 0.7112 - val_loss: -1.2406 - val_acc: 0.7447\n",
            "Epoch 21/50\n",
            "419/419 [==============================] - 0s 88us/sample - loss: -1.7510 - acc: 0.7112 - val_loss: -1.3634 - val_acc: 0.7447\n",
            "Epoch 22/50\n",
            "419/419 [==============================] - 0s 72us/sample - loss: -1.9158 - acc: 0.7112 - val_loss: -1.4915 - val_acc: 0.7447\n",
            "Epoch 23/50\n",
            "419/419 [==============================] - 0s 79us/sample - loss: -2.0969 - acc: 0.7112 - val_loss: -1.6305 - val_acc: 0.7447\n",
            "Epoch 24/50\n",
            "419/419 [==============================] - 0s 75us/sample - loss: -2.2794 - acc: 0.7112 - val_loss: -1.7796 - val_acc: 0.7447\n",
            "Epoch 25/50\n",
            "419/419 [==============================] - 0s 96us/sample - loss: -2.4796 - acc: 0.7112 - val_loss: -1.9328 - val_acc: 0.7447\n",
            "Epoch 26/50\n",
            "419/419 [==============================] - 0s 87us/sample - loss: -2.6919 - acc: 0.7112 - val_loss: -2.0990 - val_acc: 0.7447\n",
            "Epoch 27/50\n",
            "419/419 [==============================] - 0s 91us/sample - loss: -2.9240 - acc: 0.7112 - val_loss: -2.2692 - val_acc: 0.7447\n",
            "Epoch 28/50\n",
            "419/419 [==============================] - 0s 79us/sample - loss: -3.1614 - acc: 0.7112 - val_loss: -2.4675 - val_acc: 0.7447\n",
            "Epoch 29/50\n",
            "419/419 [==============================] - 0s 85us/sample - loss: -3.4339 - acc: 0.7112 - val_loss: -2.6811 - val_acc: 0.7447\n",
            "Epoch 30/50\n",
            "419/419 [==============================] - 0s 87us/sample - loss: -3.7279 - acc: 0.7112 - val_loss: -2.9072 - val_acc: 0.7447\n",
            "Epoch 31/50\n",
            "419/419 [==============================] - 0s 76us/sample - loss: -4.0435 - acc: 0.7112 - val_loss: -3.1584 - val_acc: 0.7447\n",
            "Epoch 32/50\n",
            "419/419 [==============================] - 0s 84us/sample - loss: -4.3772 - acc: 0.7112 - val_loss: -3.4054 - val_acc: 0.7447\n",
            "Epoch 33/50\n",
            "419/419 [==============================] - 0s 91us/sample - loss: -4.7081 - acc: 0.7112 - val_loss: -3.6523 - val_acc: 0.7447\n",
            "Epoch 34/50\n",
            "419/419 [==============================] - 0s 75us/sample - loss: -5.0274 - acc: 0.7112 - val_loss: -3.9193 - val_acc: 0.7447\n",
            "Epoch 35/50\n",
            "419/419 [==============================] - 0s 74us/sample - loss: -5.3926 - acc: 0.7112 - val_loss: -4.1972 - val_acc: 0.7447\n",
            "Epoch 36/50\n",
            "419/419 [==============================] - 0s 65us/sample - loss: -5.7516 - acc: 0.7112 - val_loss: -4.4853 - val_acc: 0.7447\n",
            "Epoch 37/50\n",
            "419/419 [==============================] - 0s 72us/sample - loss: -6.1343 - acc: 0.7112 - val_loss: -4.7816 - val_acc: 0.7447\n",
            "Epoch 38/50\n",
            "419/419 [==============================] - 0s 66us/sample - loss: -6.5517 - acc: 0.7112 - val_loss: -5.1157 - val_acc: 0.7447\n",
            "Epoch 39/50\n",
            "419/419 [==============================] - 0s 72us/sample - loss: -6.9773 - acc: 0.7112 - val_loss: -5.4417 - val_acc: 0.7447\n",
            "Epoch 40/50\n",
            "419/419 [==============================] - 0s 75us/sample - loss: -7.3995 - acc: 0.7112 - val_loss: -5.7908 - val_acc: 0.7447\n",
            "Epoch 41/50\n",
            "419/419 [==============================] - 0s 76us/sample - loss: -7.8563 - acc: 0.7112 - val_loss: -6.1348 - val_acc: 0.7447\n",
            "Epoch 42/50\n",
            "419/419 [==============================] - 0s 75us/sample - loss: -8.3261 - acc: 0.7112 - val_loss: -6.5005 - val_acc: 0.7447\n",
            "Epoch 43/50\n",
            "419/419 [==============================] - 0s 82us/sample - loss: -8.8289 - acc: 0.7112 - val_loss: -6.8756 - val_acc: 0.7447\n",
            "Epoch 44/50\n",
            "419/419 [==============================] - 0s 81us/sample - loss: -9.3340 - acc: 0.7112 - val_loss: -7.2985 - val_acc: 0.7447\n",
            "Epoch 45/50\n",
            "419/419 [==============================] - 0s 78us/sample - loss: -9.8805 - acc: 0.7112 - val_loss: -7.7346 - val_acc: 0.7447\n",
            "Epoch 46/50\n",
            "419/419 [==============================] - 0s 83us/sample - loss: -10.4487 - acc: 0.7112 - val_loss: -8.1748 - val_acc: 0.7447\n",
            "Epoch 47/50\n",
            "419/419 [==============================] - 0s 81us/sample - loss: -11.0204 - acc: 0.7088 - val_loss: -8.6232 - val_acc: 0.7447\n",
            "Epoch 48/50\n",
            "419/419 [==============================] - 0s 78us/sample - loss: -11.6215 - acc: 0.7088 - val_loss: -9.0777 - val_acc: 0.7447\n",
            "Epoch 49/50\n",
            "419/419 [==============================] - 0s 74us/sample - loss: -12.2437 - acc: 0.7088 - val_loss: -9.5433 - val_acc: 0.7447\n",
            "Epoch 50/50\n",
            "419/419 [==============================] - 0s 75us/sample - loss: -12.8753 - acc: 0.7088 - val_loss: -10.0768 - val_acc: 0.7447\n"
          ],
          "name": "stdout"
        },
        {
          "output_type": "execute_result",
          "data": {
            "text/plain": [
              "<tensorflow.python.keras.callbacks.History at 0x7f84044097f0>"
            ]
          },
          "metadata": {
            "tags": []
          },
          "execution_count": 35
        }
      ]
    },
    {
      "cell_type": "code",
      "metadata": {
        "id": "iuR6RPI6CaXE",
        "colab_type": "code",
        "outputId": "23653b99-0c92-45eb-a7bc-cadbf963f2ea",
        "colab": {
          "base_uri": "https://localhost:8080/",
          "height": 34
        }
      },
      "source": [
        "test_loss, test_accuracy = perceptrn.evaluate(x=X_test_std, y=y_test)"
      ],
      "execution_count": 0,
      "outputs": [
        {
          "output_type": "stream",
          "text": [
            "117/117 [==============================] - 0s 65us/sample - loss: -13.8253 - acc: 0.7094\n"
          ],
          "name": "stdout"
        }
      ]
    },
    {
      "cell_type": "code",
      "metadata": {
        "id": "7Qsr59_UC3Ex",
        "colab_type": "code",
        "outputId": "bc63471b-6cc6-47fe-8b47-ad29cdbe1790",
        "colab": {
          "base_uri": "https://localhost:8080/",
          "height": 34
        }
      },
      "source": [
        "print(test_loss, test_accuracy)"
      ],
      "execution_count": 0,
      "outputs": [
        {
          "output_type": "stream",
          "text": [
            "-13.825288699223446 0.7094017\n"
          ],
          "name": "stdout"
        }
      ]
    },
    {
      "cell_type": "code",
      "metadata": {
        "id": "fk84EBQMC-PF",
        "colab_type": "code",
        "colab": {}
      },
      "source": [
        ""
      ],
      "execution_count": 0,
      "outputs": []
    }
  ]
}