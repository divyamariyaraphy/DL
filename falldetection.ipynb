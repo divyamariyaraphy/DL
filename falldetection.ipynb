{
  "nbformat": 4,
  "nbformat_minor": 0,
  "metadata": {
    "colab": {
      "name": "falldetection.ipynb",
      "provenance": []
    },
    "kernelspec": {
      "name": "python3",
      "display_name": "Python 3"
    }
  },
  "cells": [
    {
      "cell_type": "code",
      "metadata": {
        "id": "OnrrR0TqaNh8",
        "colab_type": "code",
        "colab": {}
      },
      "source": [
        "from sklearn import datasets\n",
        "import numpy as np\n",
        "import pandas as pd\n",
        "from sklearn.neural_network import MLPClassifier\n",
        "from sklearn.model_selection import train_test_split"
      ],
      "execution_count": 0,
      "outputs": []
    },
    {
      "cell_type": "code",
      "metadata": {
        "id": "nwYBvh1_bGkx",
        "colab_type": "code",
        "colab": {}
      },
      "source": [
        "!pip install -U -q PyDrive\n",
        "from pydrive.auth import GoogleAuth\n",
        "from pydrive.drive import GoogleDrive\n",
        "from google.colab import auth\n",
        "from oauth2client.client import GoogleCredentials"
      ],
      "execution_count": 0,
      "outputs": []
    },
    {
      "cell_type": "code",
      "metadata": {
        "id": "K5XMVugkbLJf",
        "colab_type": "code",
        "colab": {}
      },
      "source": [
        "auth.authenticate_user()\n",
        "gauth = GoogleAuth()\n",
        "gauth.credentials = GoogleCredentials.get_application_default()\n",
        "drive = GoogleDrive(gauth)\n",
        "link = 'https://drive.google.com/open?id=1qk01iDtHSV-2eYlaPFZCu16RZ9BRSfNN'"
      ],
      "execution_count": 0,
      "outputs": []
    },
    {
      "cell_type": "code",
      "metadata": {
        "id": "6_6Cvt0cbZGH",
        "colab_type": "code",
        "outputId": "22d59145-82f4-4640-c176-ebb895b246aa",
        "colab": {
          "base_uri": "https://localhost:8080/",
          "height": 34
        }
      },
      "source": [
        "fluff, id = link.split('=')\n",
        "print (id)"
      ],
      "execution_count": 4,
      "outputs": [
        {
          "output_type": "stream",
          "text": [
            "1qk01iDtHSV-2eYlaPFZCu16RZ9BRSfNN\n"
          ],
          "name": "stdout"
        }
      ]
    },
    {
      "cell_type": "code",
      "metadata": {
        "id": "527ihC1_cGae",
        "colab_type": "code",
        "colab": {}
      },
      "source": [
        "downloaded = drive.CreateFile({'id':id}) \n",
        "downloaded.GetContentFile('falldeteciton.csv')  \n",
        "data = pd.read_csv('falldeteciton.csv')"
      ],
      "execution_count": 0,
      "outputs": []
    },
    {
      "cell_type": "code",
      "metadata": {
        "id": "yEqsyRikcVPX",
        "colab_type": "code",
        "outputId": "d852f950-043f-42f7-c54b-9c656d5f8212",
        "colab": {
          "base_uri": "https://localhost:8080/",
          "height": 34
        }
      },
      "source": [
        "data.shape"
      ],
      "execution_count": 6,
      "outputs": [
        {
          "output_type": "execute_result",
          "data": {
            "text/plain": [
              "(16382, 7)"
            ]
          },
          "metadata": {
            "tags": []
          },
          "execution_count": 6
        }
      ]
    },
    {
      "cell_type": "code",
      "metadata": {
        "id": "eeM3a3LLcbW7",
        "colab_type": "code",
        "outputId": "8aeb99ac-92d3-4908-c299-3eacbedfbb61",
        "colab": {
          "base_uri": "https://localhost:8080/",
          "height": 218
        }
      },
      "source": [
        "data.head\n",
        "data.info()"
      ],
      "execution_count": 7,
      "outputs": [
        {
          "output_type": "stream",
          "text": [
            "<class 'pandas.core.frame.DataFrame'>\n",
            "RangeIndex: 16382 entries, 0 to 16381\n",
            "Data columns (total 7 columns):\n",
            "ACTIVITY       16382 non-null int64\n",
            "TIME           16382 non-null float64\n",
            "SL             16382 non-null float64\n",
            "EEG            16382 non-null float64\n",
            "BP             16382 non-null int64\n",
            "HR             16382 non-null int64\n",
            "CIRCLUATION    16382 non-null int64\n",
            "dtypes: float64(3), int64(4)\n",
            "memory usage: 896.0 KB\n"
          ],
          "name": "stdout"
        }
      ]
    },
    {
      "cell_type": "code",
      "metadata": {
        "id": "bnxFyRvUcnX4",
        "colab_type": "code",
        "colab": {}
      },
      "source": [
        "x=data.drop('ACTIVITY',axis=1)\n",
        "y=data['ACTIVITY']"
      ],
      "execution_count": 0,
      "outputs": []
    },
    {
      "cell_type": "code",
      "metadata": {
        "id": "-geFienqeEHL",
        "colab_type": "code",
        "outputId": "59327838-3a95-4742-d089-bfdd598460b3",
        "colab": {
          "base_uri": "https://localhost:8080/",
          "height": 151
        }
      },
      "source": [
        "data.isnull().sum()"
      ],
      "execution_count": 12,
      "outputs": [
        {
          "output_type": "execute_result",
          "data": {
            "text/plain": [
              "ACTIVITY       0\n",
              "TIME           0\n",
              "SL             0\n",
              "EEG            0\n",
              "BP             0\n",
              "HR             0\n",
              "CIRCLUATION    0\n",
              "dtype: int64"
            ]
          },
          "metadata": {
            "tags": []
          },
          "execution_count": 12
        }
      ]
    },
    {
      "cell_type": "code",
      "metadata": {
        "id": "afTPhOOkeQo0",
        "colab_type": "code",
        "colab": {}
      },
      "source": [
        "\n",
        "from sklearn.model_selection import train_test_split\n",
        "X_train, X_test, y_train, y_test = train_test_split(x, y, test_size =0.2 ,stratify=y,random_state=42)\n"
      ],
      "execution_count": 0,
      "outputs": []
    },
    {
      "cell_type": "code",
      "metadata": {
        "id": "cRcoyUVkeXl-",
        "colab_type": "code",
        "outputId": "9d8fd7b3-225e-46f0-9f02-e75aab2c06c0",
        "colab": {
          "base_uri": "https://localhost:8080/",
          "height": 34
        }
      },
      "source": [
        "mlpClassifier = MLPClassifier(solver='lbfgs', alpha=1e-5,hidden_layer_sizes=(10, 5), random_state=1)\n",
        "mlpClassifier.fit(X_train, y_train)\n",
        "score = mlpClassifier.score(X_test, y_test)\n",
        "print(score)"
      ],
      "execution_count": 17,
      "outputs": [
        {
          "output_type": "stream",
          "text": [
            "0.22001830942935613\n"
          ],
          "name": "stdout"
        }
      ]
    },
    {
      "cell_type": "code",
      "metadata": {
        "id": "0uIRaL5le4RX",
        "colab_type": "code",
        "colab": {
          "base_uri": "https://localhost:8080/",
          "height": 62
        },
        "outputId": "af0fc659-dec5-4066-db1e-d1cbf2378de7"
      },
      "source": [
        "import tensorflow as tf\n",
        "from tensorflow import keras"
      ],
      "execution_count": 18,
      "outputs": [
        {
          "output_type": "display_data",
          "data": {
            "text/html": [
              "<p style=\"color: red;\">\n",
              "The default version of TensorFlow in Colab will soon switch to TensorFlow 2.x.<br>\n",
              "We recommend you <a href=\"https://www.tensorflow.org/guide/migrate\" target=\"_blank\">upgrade</a> now \n",
              "or ensure your notebook will continue to use TensorFlow 1.x via the <code>%tensorflow_version 1.x</code> magic:\n",
              "<a href=\"https://colab.research.google.com/notebooks/tensorflow_version.ipynb\" target=\"_blank\">more info</a>.</p>\n"
            ],
            "text/plain": [
              "<IPython.core.display.HTML object>"
            ]
          },
          "metadata": {
            "tags": []
          }
        }
      ]
    },
    {
      "cell_type": "code",
      "metadata": {
        "id": "6x-GBO_XjIxj",
        "colab_type": "code",
        "colab": {}
      },
      "source": [
        "tf.set_random_seed(42)\n",
        "np.random.seed(42)"
      ],
      "execution_count": 0,
      "outputs": []
    },
    {
      "cell_type": "code",
      "metadata": {
        "id": "H2voAvvkjMsF",
        "colab_type": "code",
        "colab": {}
      },
      "source": [
        "from sklearn.preprocessing import StandardScaler\n",
        "sc = StandardScaler()"
      ],
      "execution_count": 0,
      "outputs": []
    },
    {
      "cell_type": "code",
      "metadata": {
        "id": "CxwOsctTjP9Z",
        "colab_type": "code",
        "colab": {
          "base_uri": "https://localhost:8080/",
          "height": 34
        },
        "outputId": "ce5d8d0f-ef1a-45b6-ec35-df7b014d7cad"
      },
      "source": [
        "sc.fit(X_train)"
      ],
      "execution_count": 21,
      "outputs": [
        {
          "output_type": "execute_result",
          "data": {
            "text/plain": [
              "StandardScaler(copy=True, with_mean=True, with_std=True)"
            ]
          },
          "metadata": {
            "tags": []
          },
          "execution_count": 21
        }
      ]
    },
    {
      "cell_type": "code",
      "metadata": {
        "id": "Fc5eqbsIjUm8",
        "colab_type": "code",
        "colab": {}
      },
      "source": [
        "X_train_std = sc.transform(X_train)\n",
        "X_test_std = sc.transform(X_test)"
      ],
      "execution_count": 0,
      "outputs": []
    },
    {
      "cell_type": "code",
      "metadata": {
        "id": "dYB7XqXyjchH",
        "colab_type": "code",
        "colab": {
          "base_uri": "https://localhost:8080/",
          "height": 218
        },
        "outputId": "2d7f9ac9-6d1b-492e-a4ee-19b69c435e4b"
      },
      "source": [
        "model_MLP = keras.models.Sequential()\n",
        "\n",
        "model_MLP.add(keras.layers.Dense(units=21, activation='relu',input_shape= X_train.shape[1:]))\n",
        "\n",
        "model_MLP.add(keras.layers.Dense(units=6, activation='softmax'))\n",
        "\n",
        "model_MLP.summary()"
      ],
      "execution_count": 24,
      "outputs": [
        {
          "output_type": "stream",
          "text": [
            "Model: \"sequential_1\"\n",
            "_________________________________________________________________\n",
            "Layer (type)                 Output Shape              Param #   \n",
            "=================================================================\n",
            "dense_2 (Dense)              (None, 21)                147       \n",
            "_________________________________________________________________\n",
            "dense_3 (Dense)              (None, 6)                 132       \n",
            "=================================================================\n",
            "Total params: 279\n",
            "Trainable params: 279\n",
            "Non-trainable params: 0\n",
            "_________________________________________________________________\n"
          ],
          "name": "stdout"
        }
      ]
    },
    {
      "cell_type": "code",
      "metadata": {
        "id": "kMvLp2DdjgUB",
        "colab_type": "code",
        "colab": {}
      },
      "source": [
        "model_MLP.compile(loss='sparse_categorical_crossentropy',optimizer='adam', metrics=['accuracy'])"
      ],
      "execution_count": 0,
      "outputs": []
    },
    {
      "cell_type": "code",
      "metadata": {
        "id": "6-sQK_GIjk2x",
        "colab_type": "code",
        "colab": {
          "base_uri": "https://localhost:8080/",
          "height": 1000
        },
        "outputId": "17a3c952-ce22-448e-e500-152f0e7b4201"
      },
      "source": [
        "model_MLP.fit(x=X_train_std, y=y_train, validation_split=0.1, epochs=50,batch_size=32)"
      ],
      "execution_count": 26,
      "outputs": [
        {
          "output_type": "stream",
          "text": [
            "Train on 11794 samples, validate on 1311 samples\n",
            "Epoch 1/50\n",
            "11794/11794 [==============================] - 1s 65us/sample - loss: 1.6579 - acc: 0.2885 - val_loss: 1.5695 - val_acc: 0.3394\n",
            "Epoch 2/50\n",
            "11794/11794 [==============================] - 1s 48us/sample - loss: 1.5801 - acc: 0.3289 - val_loss: 1.5433 - val_acc: 0.3494\n",
            "Epoch 3/50\n",
            "11794/11794 [==============================] - 1s 46us/sample - loss: 1.5605 - acc: 0.3406 - val_loss: 1.5301 - val_acc: 0.3616\n",
            "Epoch 4/50\n",
            "11794/11794 [==============================] - 1s 45us/sample - loss: 1.5479 - acc: 0.3448 - val_loss: 1.5192 - val_acc: 0.3654\n",
            "Epoch 5/50\n",
            "11794/11794 [==============================] - 1s 46us/sample - loss: 1.5386 - acc: 0.3499 - val_loss: 1.5128 - val_acc: 0.3837\n",
            "Epoch 6/50\n",
            "11794/11794 [==============================] - 1s 44us/sample - loss: 1.5309 - acc: 0.3499 - val_loss: 1.5038 - val_acc: 0.3814\n",
            "Epoch 7/50\n",
            "11794/11794 [==============================] - 1s 44us/sample - loss: 1.5240 - acc: 0.3561 - val_loss: 1.4963 - val_acc: 0.3844\n",
            "Epoch 8/50\n",
            "11794/11794 [==============================] - 1s 44us/sample - loss: 1.5176 - acc: 0.3582 - val_loss: 1.4887 - val_acc: 0.3867\n",
            "Epoch 9/50\n",
            "11794/11794 [==============================] - 1s 44us/sample - loss: 1.5127 - acc: 0.3596 - val_loss: 1.4827 - val_acc: 0.4073\n",
            "Epoch 10/50\n",
            "11794/11794 [==============================] - 1s 46us/sample - loss: 1.5077 - acc: 0.3628 - val_loss: 1.4800 - val_acc: 0.3875\n",
            "Epoch 11/50\n",
            "11794/11794 [==============================] - 1s 44us/sample - loss: 1.5031 - acc: 0.3627 - val_loss: 1.4723 - val_acc: 0.4058\n",
            "Epoch 12/50\n",
            "11794/11794 [==============================] - 1s 44us/sample - loss: 1.4988 - acc: 0.3667 - val_loss: 1.4681 - val_acc: 0.4127\n",
            "Epoch 13/50\n",
            "11794/11794 [==============================] - 1s 48us/sample - loss: 1.4946 - acc: 0.3721 - val_loss: 1.4675 - val_acc: 0.4218\n",
            "Epoch 14/50\n",
            "11794/11794 [==============================] - 1s 44us/sample - loss: 1.4906 - acc: 0.3734 - val_loss: 1.4582 - val_acc: 0.4150\n",
            "Epoch 15/50\n",
            "11794/11794 [==============================] - 1s 45us/sample - loss: 1.4865 - acc: 0.3760 - val_loss: 1.4552 - val_acc: 0.4165\n",
            "Epoch 16/50\n",
            "11794/11794 [==============================] - 1s 44us/sample - loss: 1.4822 - acc: 0.3825 - val_loss: 1.4516 - val_acc: 0.4165\n",
            "Epoch 17/50\n",
            "11794/11794 [==============================] - 1s 45us/sample - loss: 1.4781 - acc: 0.3814 - val_loss: 1.4477 - val_acc: 0.4203\n",
            "Epoch 18/50\n",
            "11794/11794 [==============================] - 1s 43us/sample - loss: 1.4738 - acc: 0.3857 - val_loss: 1.4434 - val_acc: 0.4203\n",
            "Epoch 19/50\n",
            "11794/11794 [==============================] - 1s 44us/sample - loss: 1.4701 - acc: 0.3892 - val_loss: 1.4384 - val_acc: 0.4218\n",
            "Epoch 20/50\n",
            "11794/11794 [==============================] - 1s 44us/sample - loss: 1.4656 - acc: 0.3916 - val_loss: 1.4353 - val_acc: 0.4363\n",
            "Epoch 21/50\n",
            "11794/11794 [==============================] - 1s 44us/sample - loss: 1.4623 - acc: 0.3966 - val_loss: 1.4294 - val_acc: 0.4249\n",
            "Epoch 22/50\n",
            "11794/11794 [==============================] - 1s 44us/sample - loss: 1.4576 - acc: 0.3969 - val_loss: 1.4284 - val_acc: 0.4279\n",
            "Epoch 23/50\n",
            "11794/11794 [==============================] - 1s 44us/sample - loss: 1.4546 - acc: 0.3977 - val_loss: 1.4269 - val_acc: 0.4127\n",
            "Epoch 24/50\n",
            "11794/11794 [==============================] - 1s 43us/sample - loss: 1.4507 - acc: 0.3992 - val_loss: 1.4224 - val_acc: 0.4272\n",
            "Epoch 25/50\n",
            "11794/11794 [==============================] - 1s 46us/sample - loss: 1.4470 - acc: 0.3996 - val_loss: 1.4163 - val_acc: 0.4317\n",
            "Epoch 26/50\n",
            "11794/11794 [==============================] - 1s 45us/sample - loss: 1.4434 - acc: 0.4029 - val_loss: 1.4121 - val_acc: 0.4378\n",
            "Epoch 27/50\n",
            "11794/11794 [==============================] - 1s 45us/sample - loss: 1.4399 - acc: 0.4054 - val_loss: 1.4107 - val_acc: 0.4355\n",
            "Epoch 28/50\n",
            "11794/11794 [==============================] - 1s 45us/sample - loss: 1.4364 - acc: 0.4077 - val_loss: 1.4069 - val_acc: 0.4424\n",
            "Epoch 29/50\n",
            "11794/11794 [==============================] - 1s 47us/sample - loss: 1.4329 - acc: 0.4073 - val_loss: 1.4047 - val_acc: 0.4363\n",
            "Epoch 30/50\n",
            "11794/11794 [==============================] - 1s 45us/sample - loss: 1.4295 - acc: 0.4117 - val_loss: 1.4020 - val_acc: 0.4371\n",
            "Epoch 31/50\n",
            "11794/11794 [==============================] - 1s 44us/sample - loss: 1.4267 - acc: 0.4085 - val_loss: 1.3969 - val_acc: 0.4470\n",
            "Epoch 32/50\n",
            "11794/11794 [==============================] - 1s 46us/sample - loss: 1.4243 - acc: 0.4146 - val_loss: 1.3934 - val_acc: 0.4432\n",
            "Epoch 33/50\n",
            "11794/11794 [==============================] - 1s 45us/sample - loss: 1.4214 - acc: 0.4128 - val_loss: 1.3955 - val_acc: 0.4355\n",
            "Epoch 34/50\n",
            "11794/11794 [==============================] - 1s 47us/sample - loss: 1.4182 - acc: 0.4139 - val_loss: 1.3926 - val_acc: 0.4462\n",
            "Epoch 35/50\n",
            "11794/11794 [==============================] - 1s 44us/sample - loss: 1.4160 - acc: 0.4176 - val_loss: 1.3856 - val_acc: 0.4378\n",
            "Epoch 36/50\n",
            "11794/11794 [==============================] - 1s 44us/sample - loss: 1.4132 - acc: 0.4182 - val_loss: 1.3828 - val_acc: 0.4439\n",
            "Epoch 37/50\n",
            "11794/11794 [==============================] - 1s 45us/sample - loss: 1.4107 - acc: 0.4210 - val_loss: 1.3814 - val_acc: 0.4561\n",
            "Epoch 38/50\n",
            "11794/11794 [==============================] - 1s 44us/sample - loss: 1.4084 - acc: 0.4206 - val_loss: 1.3759 - val_acc: 0.4470\n",
            "Epoch 39/50\n",
            "11794/11794 [==============================] - 1s 44us/sample - loss: 1.4054 - acc: 0.4234 - val_loss: 1.3781 - val_acc: 0.4348\n",
            "Epoch 40/50\n",
            "11794/11794 [==============================] - 1s 47us/sample - loss: 1.4036 - acc: 0.4234 - val_loss: 1.3718 - val_acc: 0.4439\n",
            "Epoch 41/50\n",
            "11794/11794 [==============================] - 1s 45us/sample - loss: 1.4008 - acc: 0.4247 - val_loss: 1.3687 - val_acc: 0.4577\n",
            "Epoch 42/50\n",
            "11794/11794 [==============================] - 1s 45us/sample - loss: 1.3985 - acc: 0.4264 - val_loss: 1.3686 - val_acc: 0.4539\n",
            "Epoch 43/50\n",
            "11794/11794 [==============================] - 1s 47us/sample - loss: 1.3957 - acc: 0.4261 - val_loss: 1.3617 - val_acc: 0.4653\n",
            "Epoch 44/50\n",
            "11794/11794 [==============================] - 1s 47us/sample - loss: 1.3935 - acc: 0.4313 - val_loss: 1.3607 - val_acc: 0.4470\n",
            "Epoch 45/50\n",
            "11794/11794 [==============================] - 1s 45us/sample - loss: 1.3907 - acc: 0.4314 - val_loss: 1.3614 - val_acc: 0.4416\n",
            "Epoch 46/50\n",
            "11794/11794 [==============================] - 1s 44us/sample - loss: 1.3896 - acc: 0.4327 - val_loss: 1.3626 - val_acc: 0.4462\n",
            "Epoch 47/50\n",
            "11794/11794 [==============================] - 1s 45us/sample - loss: 1.3872 - acc: 0.4298 - val_loss: 1.3559 - val_acc: 0.4531\n",
            "Epoch 48/50\n",
            "11794/11794 [==============================] - 1s 45us/sample - loss: 1.3860 - acc: 0.4328 - val_loss: 1.3498 - val_acc: 0.4577\n",
            "Epoch 49/50\n",
            "11794/11794 [==============================] - 1s 45us/sample - loss: 1.3837 - acc: 0.4344 - val_loss: 1.3500 - val_acc: 0.4661\n",
            "Epoch 50/50\n",
            "11794/11794 [==============================] - 1s 45us/sample - loss: 1.3811 - acc: 0.4351 - val_loss: 1.3476 - val_acc: 0.4691\n"
          ],
          "name": "stdout"
        },
        {
          "output_type": "execute_result",
          "data": {
            "text/plain": [
              "<tensorflow.python.keras.callbacks.History at 0x7f490870cf98>"
            ]
          },
          "metadata": {
            "tags": []
          },
          "execution_count": 26
        }
      ]
    },
    {
      "cell_type": "code",
      "metadata": {
        "id": "UCPF1kRSjnbn",
        "colab_type": "code",
        "colab": {
          "base_uri": "https://localhost:8080/",
          "height": 34
        },
        "outputId": "6ceb6e19-2327-43cb-f3dd-c4b0d3a3769c"
      },
      "source": [
        "test_loss, test_accuracy = model_MLP.evaluate(x=X_test_std, y=y_test)"
      ],
      "execution_count": 27,
      "outputs": [
        {
          "output_type": "stream",
          "text": [
            "3277/3277 [==============================] - 0s 25us/sample - loss: 1.3643 - acc: 0.4654\n"
          ],
          "name": "stdout"
        }
      ]
    },
    {
      "cell_type": "code",
      "metadata": {
        "id": "Q_87P_FPjrjI",
        "colab_type": "code",
        "colab": {
          "base_uri": "https://localhost:8080/",
          "height": 34
        },
        "outputId": "3e98199b-6d68-4a40-dd72-5b6c3da07298"
      },
      "source": [
        "print(test_loss,test_accuracy)"
      ],
      "execution_count": 28,
      "outputs": [
        {
          "output_type": "stream",
          "text": [
            "1.3643043023040464 0.46536466\n"
          ],
          "name": "stdout"
        }
      ]
    },
    {
      "cell_type": "code",
      "metadata": {
        "id": "YCXEyjE39Qvr",
        "colab_type": "code",
        "colab": {}
      },
      "source": [
        ""
      ],
      "execution_count": 0,
      "outputs": []
    }
  ]
}